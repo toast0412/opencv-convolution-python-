{
 "cells": [
  {
   "cell_type": "code",
   "execution_count": 2,
   "metadata": {},
   "outputs": [],
   "source": [
    "import numpy as np\n",
    "import cv2 as cv\n",
    "from matplotlib import pyplot as plt\n",
    "from skimage.exposure import rescale_intensity\n",
    "import argparse"
   ]
  },
  {
   "cell_type": "code",
   "execution_count": 15,
   "metadata": {},
   "outputs": [
    {
     "name": "stdout",
     "output_type": "stream",
     "text": [
      "[[ 0.04  0.04  0.04  0.04  0.04]\n",
      " [ 0.04  0.04  0.04  0.04  0.04]\n",
      " [ 0.04  0.04  0.04  0.04  0.04]\n",
      " [ 0.04  0.04  0.04  0.04  0.04]\n",
      " [ 0.04  0.04  0.04  0.04  0.04]]\n"
     ]
    },
    {
     "ename": "ValueError",
     "evalue": "operands could not be broadcast together with shapes (0,0) (5,5) ",
     "output_type": "error",
     "traceback": [
      "\u001b[0;31m---------------------------------------------------------------------------\u001b[0m",
      "\u001b[0;31mValueError\u001b[0m                                Traceback (most recent call last)",
      "\u001b[0;32m<ipython-input-15-93aebc223d72>\u001b[0m in \u001b[0;36m<module>\u001b[0;34m()\u001b[0m\n\u001b[1;32m     72\u001b[0m     \u001b[0mcv\u001b[0m\u001b[0;34m.\u001b[0m\u001b[0mdestroyAllWindows\u001b[0m\u001b[0;34m(\u001b[0m\u001b[0;34m)\u001b[0m\u001b[0;34m\u001b[0m\u001b[0m\n\u001b[1;32m     73\u001b[0m \u001b[0;32mif\u001b[0m \u001b[0m__name__\u001b[0m \u001b[0;34m==\u001b[0m \u001b[0;34m'__main__'\u001b[0m \u001b[0;34m:\u001b[0m\u001b[0;34m\u001b[0m\u001b[0m\n\u001b[0;32m---> 74\u001b[0;31m     \u001b[0mrun\u001b[0m\u001b[0;34m(\u001b[0m\u001b[0;34m)\u001b[0m\u001b[0;34m\u001b[0m\u001b[0m\n\u001b[0m",
      "\u001b[0;32m<ipython-input-15-93aebc223d72>\u001b[0m in \u001b[0;36mrun\u001b[0;34m()\u001b[0m\n\u001b[1;32m     60\u001b[0m     \u001b[0mkernel\u001b[0m \u001b[0;34m=\u001b[0m \u001b[0mnp\u001b[0m\u001b[0;34m.\u001b[0m\u001b[0mones\u001b[0m\u001b[0;34m(\u001b[0m\u001b[0;34m(\u001b[0m\u001b[0;36m5\u001b[0m\u001b[0;34m,\u001b[0m\u001b[0;36m5\u001b[0m\u001b[0;34m)\u001b[0m\u001b[0;34m,\u001b[0m \u001b[0mnp\u001b[0m\u001b[0;34m.\u001b[0m\u001b[0mfloat32\u001b[0m\u001b[0;34m)\u001b[0m\u001b[0;34m/\u001b[0m\u001b[0;36m25\u001b[0m\u001b[0;34m\u001b[0m\u001b[0m\n\u001b[1;32m     61\u001b[0m     \u001b[0mprint\u001b[0m\u001b[0;34m(\u001b[0m\u001b[0mkernel\u001b[0m\u001b[0;34m)\u001b[0m\u001b[0;34m\u001b[0m\u001b[0m\n\u001b[0;32m---> 62\u001b[0;31m     \u001b[0mdst\u001b[0m \u001b[0;34m=\u001b[0m \u001b[0mconvolve\u001b[0m\u001b[0;34m(\u001b[0m\u001b[0mimg\u001b[0m\u001b[0;34m,\u001b[0m \u001b[0mkernel\u001b[0m\u001b[0;34m,\u001b[0m \u001b[0;36m0\u001b[0m\u001b[0;34m,\u001b[0m \u001b[0;36m3\u001b[0m\u001b[0;34m)\u001b[0m\u001b[0;34m\u001b[0m\u001b[0m\n\u001b[0m\u001b[1;32m     63\u001b[0m \u001b[0;34m\u001b[0m\u001b[0m\n\u001b[1;32m     64\u001b[0m     \u001b[0mplt\u001b[0m\u001b[0;34m.\u001b[0m\u001b[0msubplot\u001b[0m\u001b[0;34m(\u001b[0m\u001b[0;36m121\u001b[0m\u001b[0;34m)\u001b[0m\u001b[0;34m,\u001b[0m\u001b[0mplt\u001b[0m\u001b[0;34m.\u001b[0m\u001b[0mimshow\u001b[0m\u001b[0;34m(\u001b[0m\u001b[0mimg\u001b[0m\u001b[0;34m)\u001b[0m\u001b[0;34m,\u001b[0m\u001b[0mplt\u001b[0m\u001b[0;34m.\u001b[0m\u001b[0mtitle\u001b[0m\u001b[0;34m(\u001b[0m\u001b[0;34m'original'\u001b[0m\u001b[0;34m)\u001b[0m\u001b[0;34m\u001b[0m\u001b[0m\n",
      "\u001b[0;32m<ipython-input-15-93aebc223d72>\u001b[0m in \u001b[0;36mconvolve\u001b[0;34m(image, kernel, pad, stride)\u001b[0m\n\u001b[1;32m     33\u001b[0m \u001b[0;34m\u001b[0m\u001b[0m\n\u001b[1;32m     34\u001b[0m \u001b[0;34m\u001b[0m\u001b[0m\n\u001b[0;32m---> 35\u001b[0;31m             \u001b[0mk2\u001b[0m \u001b[0;34m=\u001b[0m \u001b[0;34m(\u001b[0m\u001b[0mroi2\u001b[0m\u001b[0;34m*\u001b[0m\u001b[0mkernel\u001b[0m\u001b[0;34m)\u001b[0m\u001b[0;34m.\u001b[0m\u001b[0msum\u001b[0m\u001b[0;34m(\u001b[0m\u001b[0;34m)\u001b[0m\u001b[0;34m\u001b[0m\u001b[0m\n\u001b[0m\u001b[1;32m     36\u001b[0m             \u001b[0mk1\u001b[0m \u001b[0;34m=\u001b[0m \u001b[0;34m(\u001b[0m\u001b[0mroi1\u001b[0m\u001b[0;34m*\u001b[0m\u001b[0mkernel\u001b[0m\u001b[0;34m)\u001b[0m\u001b[0;34m.\u001b[0m\u001b[0msum\u001b[0m\u001b[0;34m(\u001b[0m\u001b[0;34m)\u001b[0m\u001b[0;34m\u001b[0m\u001b[0m\n\u001b[1;32m     37\u001b[0m             \u001b[0mk0\u001b[0m \u001b[0;34m=\u001b[0m \u001b[0;34m(\u001b[0m\u001b[0mroi0\u001b[0m\u001b[0;34m*\u001b[0m\u001b[0mkernel\u001b[0m\u001b[0;34m)\u001b[0m\u001b[0;34m.\u001b[0m\u001b[0msum\u001b[0m\u001b[0;34m(\u001b[0m\u001b[0;34m)\u001b[0m\u001b[0;34m\u001b[0m\u001b[0m\n",
      "\u001b[0;31mValueError\u001b[0m: operands could not be broadcast together with shapes (0,0) (5,5) "
     ]
    }
   ],
   "source": [
    "def convolve(image, kernel, pad, stride):\n",
    "    #convloution sequence\n",
    "    (ih,iw) = image.shape[:2] # input 이미지의 height, width 를 가져옴\n",
    "    (kh, kw) = kernel.shape[:2] #kernel 의 height, width 를 가져옴 \n",
    "    output_height = int((ih+2*pad -kh)/stride+1) \n",
    "    output_width = int((iw+2*pad -kw)/stride+1)\n",
    "    #output의 이미지의 크기를 결정 \n",
    "    \n",
    "    image = cv.copyMakeBorder(image, pad, pad, pad, pad,cv.BORDER_REPLICATE)           \n",
    "    output = np.zeros((output_height, output_width,3), dtype=\"float32\")\n",
    "\n",
    "\n",
    "\n",
    "    for y in np.arange(pad, ih+pad,stride):\n",
    "        for x in np.arange(pad, iw+pad,stride):\n",
    "            y1 =int( y-(kh-pad)/2 )\n",
    "            y2 =int( y+(kh+pad)/2 )\n",
    "            x1 =int( x-(kw-pad)/2 )\n",
    "            x2 =int( x+(kw+pad)/2 )\n",
    "\n",
    "            \n",
    "            roi0 = image[y1:y2, x1: x2,0]\n",
    "            roi1 = image[y1:y2, x1: x2,1]\n",
    "            roi2 = image[y1:y2, x1: x2,2]\n",
    "           # print(y1)\n",
    "           # print(y2)\n",
    "           # print(x1)\n",
    "           # print(x2)\n",
    "            \n",
    "           # print(roi0)\n",
    "           # print(roi1)\n",
    "           # print(roi2)\n",
    "            \n",
    "            \n",
    "            k2 = (roi2*kernel).sum()\n",
    "            k1 = (roi1*kernel).sum()\n",
    "            k0 = (roi0*kernel).sum()\n",
    "            \n",
    "            y3 = ( (y-pad)/stride )\n",
    "            x3 = ( (x-pad)/stride )\n",
    "            \n",
    " \n",
    "            output[ y3,x3,2 ] = k2\n",
    "            output[ y3,x3,1 ] = k1\n",
    "            output[ y3,x3,0 ] = k0\n",
    "             \n",
    "           # print(y3)\n",
    "           # print(x3)\n",
    "            \n",
    "    #output = rescale_intensity(output, in_range=(0, 255))\n",
    "    output = output.astype(\"uint8\")\n",
    "    \n",
    "\n",
    "    return output\n",
    "\n",
    "def run():\n",
    "    #kernel = np.array( [[-1, -1, -1],[-1,  8, -1 ],[-1, -1, -1]] )\n",
    "    \n",
    "    img = cv.imread('messi5.jpg')\n",
    "    kernel = np.ones((5,5), np.float32)/25\n",
    "    print(kernel)\n",
    "    dst = convolve(img, kernel, 2, 3)\n",
    "    \n",
    "    plt.subplot(121),plt.imshow(img),plt.title('original')\n",
    "    plt.xticks([]),plt.yticks([])\n",
    "    plt.subplot(122),plt.imshow(dst),plt.title('Averaging')\n",
    "    plt.xticks([]),plt.yticks([])\n",
    "    plt.show()\n",
    "    cv.imshow('img',img)\n",
    "    cv.imshow('dst',dst)\n",
    "    cv.waitKey(0)\n",
    "    cv.destroyAllWindows()\n",
    "if __name__ == '__main__' :\n",
    "    run()"
   ]
  },
  {
   "cell_type": "code",
   "execution_count": null,
   "metadata": {},
   "outputs": [],
   "source": []
  },
  {
   "cell_type": "code",
   "execution_count": null,
   "metadata": {},
   "outputs": [],
   "source": []
  }
 ],
 "metadata": {
  "kernelspec": {
   "display_name": "Python 3",
   "language": "python",
   "name": "python3"
  },
  "language_info": {
   "codemirror_mode": {
    "name": "ipython",
    "version": 3
   },
   "file_extension": ".py",
   "mimetype": "text/x-python",
   "name": "python",
   "nbconvert_exporter": "python",
   "pygments_lexer": "ipython3",
   "version": "3.5.2"
  }
 },
 "nbformat": 4,
 "nbformat_minor": 2
}
